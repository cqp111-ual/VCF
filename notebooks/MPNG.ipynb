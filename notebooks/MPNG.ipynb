{
 "cells": [
  {
   "cell_type": "markdown",
   "id": "fd58efe9-d816-4559-bdd1-f76fdcfc100d",
   "metadata": {},
   "source": [
    "## MPNG Encoding"
   ]
  },
  {
   "cell_type": "code",
   "execution_count": null,
   "id": "1e42347e-49b9-4b47-9637-51da1c5fca58",
   "metadata": {},
   "outputs": [],
   "source": [
    "from IPython.display import Video"
   ]
  },
  {
   "cell_type": "code",
   "execution_count": null,
   "id": "c0b8f034-9dd7-45d3-bd01-c9e12bd073fb",
   "metadata": {},
   "outputs": [],
   "source": [
    "!pip install -r ../requirements.txt"
   ]
  },
  {
   "cell_type": "markdown",
   "id": "77f7c572-b3e6-4605-96ba-d35dd68ce75e",
   "metadata": {},
   "source": [
    "### Help about basic functionality"
   ]
  },
  {
   "cell_type": "code",
   "execution_count": null,
   "id": "ff5131a5-c8cb-44d0-affd-f917d48026ac",
   "metadata": {},
   "outputs": [],
   "source": [
    "!python ../src/MPNG.py -h"
   ]
  },
  {
   "cell_type": "markdown",
   "id": "facf9f25-06b7-4863-a43e-69e3ffb580c8",
   "metadata": {},
   "source": [
    "### Help to encode"
   ]
  },
  {
   "cell_type": "code",
   "execution_count": null,
   "id": "976d4c1c-efd2-48d6-a97a-aa7dfa481634",
   "metadata": {},
   "outputs": [],
   "source": [
    "!python ../src/MPNG.py encode -h"
   ]
  },
  {
   "cell_type": "markdown",
   "id": "867b0d69-1846-4688-8d6f-f7de3cf48baf",
   "metadata": {},
   "source": [
    "### Encode default (remote) video"
   ]
  },
  {
   "cell_type": "code",
   "execution_count": null,
   "id": "178ae86f-cc39-4855-97d5-a86197cb6115",
   "metadata": {},
   "outputs": [],
   "source": [
    "Video(\"http://www.hpca.ual.es/~vruiz/videos/mobile_352x288x30x420x300.mp4\")"
   ]
  },
  {
   "cell_type": "code",
   "execution_count": null,
   "id": "357fe763-ac02-41e5-bcd8-e02e36edf461",
   "metadata": {},
   "outputs": [],
   "source": [
    "!rm /tmp/encoded_*.png  # Necessary between consecutive experiments\n",
    "!python ../src/MPNG.py encode"
   ]
  },
  {
   "cell_type": "markdown",
   "id": "20272887-a699-45d8-935c-5af914b83b00",
   "metadata": {},
   "source": [
    "### Help to decode"
   ]
  },
  {
   "cell_type": "code",
   "execution_count": null,
   "id": "cba7aef5-b4fa-41e0-99de-0ddc97d14565",
   "metadata": {},
   "outputs": [],
   "source": [
    "!python ../src/MPNG.py decode -h"
   ]
  },
  {
   "cell_type": "markdown",
   "id": "f0d2dca1-3b6a-4ba7-acca-6b1209abfedb",
   "metadata": {},
   "source": [
    "### Default decoding"
   ]
  },
  {
   "cell_type": "code",
   "execution_count": null,
   "id": "a42485ad-beff-4ae7-bbe2-2f70fd4fa758",
   "metadata": {},
   "outputs": [],
   "source": [
    "!python ../src/MPNG.py decode"
   ]
  },
  {
   "cell_type": "code",
   "execution_count": null,
   "id": "8a130edc-012d-4d6d-96d0-aee2b67e9945",
   "metadata": {},
   "outputs": [],
   "source": [
    "!mplayer /tmp/decoded.mp4"
   ]
  },
  {
   "cell_type": "code",
   "execution_count": null,
   "id": "52bdf8ac-b7e0-4cf6-9919-39b3f2432f19",
   "metadata": {},
   "outputs": [],
   "source": []
  }
 ],
 "metadata": {
  "kernelspec": {
   "display_name": "Python 3 (ipykernel)",
   "language": "python",
   "name": "python3"
  },
  "language_info": {
   "codemirror_mode": {
    "name": "ipython",
    "version": 3
   },
   "file_extension": ".py",
   "mimetype": "text/x-python",
   "name": "python",
   "nbconvert_exporter": "python",
   "pygments_lexer": "ipython3",
   "version": "3.12.2"
  }
 },
 "nbformat": 4,
 "nbformat_minor": 5
}
