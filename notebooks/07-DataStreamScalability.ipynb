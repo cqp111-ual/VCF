{
 "cells": [
  {
   "cell_type": "markdown",
   "id": "fd58efe9-d816-4559-bdd1-f76fdcfc100d",
   "metadata": {},
   "source": [
    "## Lecture 07 - Data stream scalability"
   ]
  },
  {
   "cell_type": "code",
   "execution_count": 49,
   "id": "6a0c815c-386d-4bad-b37d-bb6c58f88fdd",
   "metadata": {},
   "outputs": [],
   "source": [
    "from IPython.display import Image, display"
   ]
  },
  {
   "cell_type": "code",
   "execution_count": null,
   "id": "45580a78-2cae-409c-95ee-753066f5b44d",
   "metadata": {},
   "outputs": [],
   "source": [
    "!pip install -r ../requirements.txt"
   ]
  },
  {
   "cell_type": "code",
   "execution_count": null,
   "id": "4b435ace",
   "metadata": {},
   "outputs": [],
   "source": [
    "# Get Python env\n",
    "!which python"
   ]
  },
  {
   "cell_type": "markdown",
   "id": "5881802f",
   "metadata": {},
   "source": [
    "### Exercise 01\n",
    "\n",
    "*The L-levels DWT provides L+1 spatial resolution levels of an image. Modify 2D-DWT.py to include this functionality (the possibility of decoding a reduced resolution version of the original image), which basically consist of ignoring the high-frequency subbands.*"
   ]
  },
  {
   "cell_type": "markdown",
   "id": "ef17a903",
   "metadata": {},
   "source": [
    "We are going to be working with `../images/lena.png`. ([Link](https://drive.google.com/file/d/1WO63eI6VQxYNm_7Hvlg6OS0ZZrTSehxu/view?usp=drive_link) to download the image)."
   ]
  },
  {
   "cell_type": "code",
   "execution_count": null,
   "id": "f1b9ef1f",
   "metadata": {},
   "outputs": [],
   "source": [
    "!cp ../images/lena.png /tmp/image.png\n",
    "display(Image(filename=\"/tmp/image.png\"))"
   ]
  },
  {
   "cell_type": "markdown",
   "id": "44baeb65",
   "metadata": {},
   "source": [
    "First, let's encode the image using DWT with 5 levels. To change the number of levels, simply change LEVEL variable below."
   ]
  },
  {
   "cell_type": "code",
   "execution_count": 54,
   "id": "d49351ea",
   "metadata": {},
   "outputs": [],
   "source": [
    "# Level global variable\n",
    "LEVEL = 5"
   ]
  },
  {
   "cell_type": "code",
   "execution_count": null,
   "id": "0a07e6e9",
   "metadata": {},
   "outputs": [],
   "source": [
    "!python ../src/2D-DWT-Exercise01.py encode -i /tmp/image.png -l {LEVEL}"
   ]
  },
  {
   "cell_type": "markdown",
   "id": "b1fefcbb",
   "metadata": {},
   "source": [
    "DWT algorithm generated the following images:"
   ]
  },
  {
   "cell_type": "code",
   "execution_count": null,
   "id": "967eca2d",
   "metadata": {},
   "outputs": [],
   "source": [
    "!ls -1 -t /tmp/encoded*.png"
   ]
  },
  {
   "cell_type": "markdown",
   "id": "7a3362d5",
   "metadata": {},
   "source": [
    "The implemented solution allows decoding images at reduced resolutions by specifying the desired level of detail using the `--level` argument. The level ranges from 1 (lowest detail) to L (the original encoding level, highest detail). This lets you retrieve progressively lower resolution versions of the original image."
   ]
  },
  {
   "cell_type": "markdown",
   "id": "74610d39",
   "metadata": {},
   "source": [
    "With the following script, we can generate all L levels of the image (at smaller levels, an error may occur after generating the image when comparing it to the original due to size resolution issues)."
   ]
  },
  {
   "cell_type": "code",
   "execution_count": null,
   "id": "24b0e26e",
   "metadata": {},
   "outputs": [],
   "source": [
    "!mkdir /tmp/results\n",
    "\n",
    "# Bucle para generar y guardar las imágenes decodificadas\n",
    "for level in range(1, LEVEL+1):\n",
    "    !python ../src/2D-DWT-Exercise01.py decode -l {level}\n",
    "    !mv /tmp/decoded.png /tmp/results/decoded-{level}.png"
   ]
  },
  {
   "cell_type": "markdown",
   "id": "b39a79cc",
   "metadata": {},
   "source": [
    "View generated files:"
   ]
  },
  {
   "cell_type": "code",
   "execution_count": null,
   "id": "65a8e778",
   "metadata": {},
   "outputs": [],
   "source": [
    "!ls -lth /tmp/results/"
   ]
  },
  {
   "cell_type": "markdown",
   "id": "03eb3429",
   "metadata": {},
   "source": [
    "Display decoded images, from lower to higher detail:"
   ]
  },
  {
   "cell_type": "code",
   "execution_count": null,
   "id": "d9a77e3d",
   "metadata": {},
   "outputs": [],
   "source": [
    "for level in range(1, LEVEL+1):\n",
    "    print(f\"Decoded image (level = {level})\")\n",
    "    display(Image(filename = f\"/tmp/results/decoded-{level}.png\"))\n",
    "\n",
    "print(f\"Original image (level = {LEVEL+1})\")\n",
    "display(Image(filename=\"/tmp/original.png\"))\n"
   ]
  }
 ],
 "metadata": {
  "kernelspec": {
   "display_name": "VCF",
   "language": "python",
   "name": "python3"
  },
  "language_info": {
   "codemirror_mode": {
    "name": "ipython",
    "version": 3
   },
   "file_extension": ".py",
   "mimetype": "text/x-python",
   "name": "python",
   "nbconvert_exporter": "python",
   "pygments_lexer": "ipython3",
   "version": "3.12.3"
  }
 },
 "nbformat": 4,
 "nbformat_minor": 5
}
