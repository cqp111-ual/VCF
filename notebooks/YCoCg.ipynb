{
 "cells": [
  {
   "cell_type": "markdown",
   "id": "fd58efe9-d816-4559-bdd1-f76fdcfc100d",
   "metadata": {},
   "source": [
    "## YCoCg color transform"
   ]
  },
  {
   "cell_type": "code",
   "execution_count": null,
   "id": "6a0c815c-386d-4bad-b37d-bb6c58f88fdd",
   "metadata": {},
   "outputs": [],
   "source": [
    "from IPython.display import Image, display"
   ]
  },
  {
   "cell_type": "code",
   "execution_count": null,
   "id": "45580a78-2cae-409c-95ee-753066f5b44d",
   "metadata": {},
   "outputs": [],
   "source": [
    "!pip install -r ../requirements.txt"
   ]
  },
  {
   "cell_type": "markdown",
   "id": "14197b81-b2a9-4e8f-97e1-3ab383a2f644",
   "metadata": {},
   "source": [
    "### Help"
   ]
  },
  {
   "cell_type": "code",
   "execution_count": null,
   "id": "976d4c1c-efd2-48d6-a97a-aa7dfa481634",
   "metadata": {},
   "outputs": [],
   "source": [
    "!python ../src/YCoCg.py -h"
   ]
  },
  {
   "cell_type": "code",
   "execution_count": null,
   "id": "ca895cdf-b3dc-42b0-845d-25e30b02db5b",
   "metadata": {},
   "outputs": [],
   "source": [
    "!python ../src/YCoCg.py encode -h"
   ]
  },
  {
   "cell_type": "markdown",
   "id": "28277465-f77d-4a3c-9030-9f4199b36fdf",
   "metadata": {},
   "source": [
    "### Encoding"
   ]
  },
  {
   "cell_type": "code",
   "execution_count": null,
   "id": "ae7acafa-e5a9-4eea-a2a4-1d06afa06ad2",
   "metadata": {},
   "outputs": [],
   "source": [
    "!wget http://www.hpca.ual.es/~vruiz/images/pajarillo_512x512.png -O /tmp/pajarillo.png"
   ]
  },
  {
   "cell_type": "code",
   "execution_count": null,
   "id": "b92eb0a5-e493-4715-8c04-2608ad610d2b",
   "metadata": {},
   "outputs": [],
   "source": [
    "!python ../src/YCoCg.py encode -i /tmp/pajarillo.png"
   ]
  },
  {
   "cell_type": "markdown",
   "id": "bc8919de-7611-4746-b96a-ba4367eb5dbf",
   "metadata": {},
   "source": [
    "### Decoding"
   ]
  },
  {
   "cell_type": "code",
   "execution_count": null,
   "id": "a42485ad-beff-4ae7-bbe2-2f70fd4fa758",
   "metadata": {},
   "outputs": [],
   "source": [
    "!python ../src/YCoCg.py decode"
   ]
  },
  {
   "cell_type": "code",
   "execution_count": null,
   "id": "c0e94419-2898-437b-92ad-de9846f16710",
   "metadata": {},
   "outputs": [],
   "source": [
    "display(Image(filename=\"/tmp/pajarillo.png\"))\n",
    "display(Image(filename=\"/tmp/decoded.png\"))"
   ]
  },
  {
   "cell_type": "markdown",
   "id": "2df74814-d9ed-4979-b5a6-743499d15bd8",
   "metadata": {},
   "source": [
    "### Comparing with YCrCb"
   ]
  },
  {
   "cell_type": "code",
   "execution_count": null,
   "id": "7e791e01-451a-4b80-89b1-036aa5acb528",
   "metadata": {},
   "outputs": [],
   "source": [
    "!python ../src/YCrCb.py encode -i /tmp/pajarillo.png\n",
    "!python ../src/YCrCb.py decode -o /tmp/YCrCb.png\n",
    "display(Image(filename=\"/tmp/YCrCb.png\"))"
   ]
  },
  {
   "cell_type": "markdown",
   "id": "d5bff3eb-07e8-49b8-b804-56eabf5070a8",
   "metadata": {},
   "source": [
    "### Using (2D) VQ"
   ]
  },
  {
   "cell_type": "code",
   "execution_count": null,
   "id": "010670dc-fa4c-47d0-bd53-d50ac473d8c9",
   "metadata": {},
   "outputs": [],
   "source": [
    "!python ../src/YCoCg.py encode -i /tmp/pajarillo.png -c VQ\n",
    "!python ../src/YCoCg.py decode -c VQ\n",
    "display(Image(filename=\"/tmp/decoded.png\"))"
   ]
  }
 ],
 "metadata": {
  "kernelspec": {
   "display_name": "Python 3 (ipykernel)",
   "language": "python",
   "name": "python3"
  },
  "language_info": {
   "codemirror_mode": {
    "name": "ipython",
    "version": 3
   },
   "file_extension": ".py",
   "mimetype": "text/x-python",
   "name": "python",
   "nbconvert_exporter": "python",
   "pygments_lexer": "ipython3",
   "version": "3.12.2"
  }
 },
 "nbformat": 4,
 "nbformat_minor": 5
}
