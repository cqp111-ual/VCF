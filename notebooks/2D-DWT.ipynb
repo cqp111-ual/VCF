{
 "cells": [
  {
   "cell_type": "markdown",
   "id": "fd58efe9-d816-4559-bdd1-f76fdcfc100d",
   "metadata": {},
   "source": [
    "## 2D - Discrete Wavelet Transform image comression"
   ]
  },
  {
   "cell_type": "code",
   "execution_count": null,
   "id": "6a0c815c-386d-4bad-b37d-bb6c58f88fdd",
   "metadata": {},
   "outputs": [],
   "source": [
    "from IPython.display import Image, display"
   ]
  },
  {
   "cell_type": "code",
   "execution_count": null,
   "id": "45580a78-2cae-409c-95ee-753066f5b44d",
   "metadata": {},
   "outputs": [],
   "source": [
    "!pip install -r ../requirements.txt"
   ]
  },
  {
   "cell_type": "markdown",
   "id": "14197b81-b2a9-4e8f-97e1-3ab383a2f644",
   "metadata": {},
   "source": [
    "### Help"
   ]
  },
  {
   "cell_type": "code",
   "execution_count": null,
   "id": "976d4c1c-efd2-48d6-a97a-aa7dfa481634",
   "metadata": {},
   "outputs": [],
   "source": [
    "!python ../src/2D-DWT.py -h"
   ]
  },
  {
   "cell_type": "code",
   "execution_count": null,
   "id": "ca895cdf-b3dc-42b0-845d-25e30b02db5b",
   "metadata": {},
   "outputs": [],
   "source": [
    "!python ../src/2D-DWT.py encode -h"
   ]
  },
  {
   "cell_type": "markdown",
   "id": "28277465-f77d-4a3c-9030-9f4199b36fdf",
   "metadata": {},
   "source": [
    "### Encoding and decoding"
   ]
  },
  {
   "cell_type": "code",
   "execution_count": null,
   "id": "ae7acafa-e5a9-4eea-a2a4-1d06afa06ad2",
   "metadata": {},
   "outputs": [],
   "source": [
    "!wget http://www.hpca.ual.es/~vruiz/images/pajarillo_512x512.png -O /tmp/pajarillo.png"
   ]
  },
  {
   "cell_type": "code",
   "execution_count": null,
   "id": "b92eb0a5-e493-4715-8c04-2608ad610d2b",
   "metadata": {},
   "outputs": [],
   "source": [
    "!python ../src/2D-DWT.py encode -i /tmp/pajarillo.png\n",
    "!python ../src/2D-DWT.py decode"
   ]
  },
  {
   "cell_type": "code",
   "execution_count": null,
   "id": "2392a249-abbc-4c27-aa42-7ba1325b2011",
   "metadata": {},
   "outputs": [],
   "source": [
    "display(Image(filename=\"/tmp/pajarillo.png\"))\n",
    "display(Image(filename=\"/tmp/decoded.png\"))"
   ]
  },
  {
   "cell_type": "markdown",
   "id": "2df74814-d9ed-4979-b5a6-743499d15bd8",
   "metadata": {},
   "source": [
    "### Comparing with 2D-DCT"
   ]
  },
  {
   "cell_type": "code",
   "execution_count": null,
   "id": "010670dc-fa4c-47d0-bd53-d50ac473d8c9",
   "metadata": {},
   "outputs": [],
   "source": [
    "!python ../src/2D-DCT.py encode -i /tmp/pajarillo.png\n",
    "!python ../src/2D-DCT.py decode\n",
    "display(Image(filename=\"/tmp/decoded.png\"))"
   ]
  },
  {
   "cell_type": "markdown",
   "id": "079e3eac-b2e1-4f8e-b604-3d2eb5d22146",
   "metadata": {},
   "source": [
    "### Comparing at a very low number of bits/pixel"
   ]
  },
  {
   "cell_type": "code",
   "execution_count": null,
   "id": "ad382150-84c5-4e01-a274-88b81b903dda",
   "metadata": {},
   "outputs": [],
   "source": [
    "!python ../src/2D-DCT.py encode -i /tmp/pajarillo.png -q 128\n",
    "!python ../src/2D-DCT.py decode -q 128\n",
    "display(Image(filename=\"/tmp/decoded.png\"))"
   ]
  },
  {
   "cell_type": "code",
   "execution_count": null,
   "id": "6aa7d8e6-95d0-4a36-9702-81b1da431cab",
   "metadata": {},
   "outputs": [],
   "source": [
    "!python ../src/2D-DWT.py encode -i /tmp/pajarillo.png -q 64\n",
    "!python ../src/2D-DWT.py decode -q 64\n",
    "display(Image(filename=\"/tmp/decoded.png\"))"
   ]
  },
  {
   "cell_type": "code",
   "execution_count": null,
   "id": "ff016b6f-4305-41e4-ace9-f107644d35d9",
   "metadata": {},
   "outputs": [],
   "source": []
  }
 ],
 "metadata": {
  "kernelspec": {
   "display_name": "Python 3 (ipykernel)",
   "language": "python",
   "name": "python3"
  },
  "language_info": {
   "codemirror_mode": {
    "name": "ipython",
    "version": 3
   },
   "file_extension": ".py",
   "mimetype": "text/x-python",
   "name": "python",
   "nbconvert_exporter": "python",
   "pygments_lexer": "ipython3",
   "version": "3.12.2"
  }
 },
 "nbformat": 4,
 "nbformat_minor": 5
}
