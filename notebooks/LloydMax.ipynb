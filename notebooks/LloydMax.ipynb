{
 "cells": [
  {
   "cell_type": "markdown",
   "id": "fd58efe9-d816-4559-bdd1-f76fdcfc100d",
   "metadata": {},
   "source": [
    "## LloydMax Quantization"
   ]
  },
  {
   "cell_type": "code",
   "execution_count": null,
   "id": "6a0c815c-386d-4bad-b37d-bb6c58f88fdd",
   "metadata": {},
   "outputs": [],
   "source": [
    "from IPython.display import Image, display"
   ]
  },
  {
   "cell_type": "code",
   "execution_count": null,
   "id": "50190d26-64e3-450f-8ca7-d216c8e53377",
   "metadata": {},
   "outputs": [],
   "source": [
    "!pip install -r ../requirements.txt"
   ]
  },
  {
   "cell_type": "markdown",
   "id": "d1efc0eb-d87f-43f1-823f-c1b2e63d88b9",
   "metadata": {},
   "source": [
    "### Encoding help"
   ]
  },
  {
   "cell_type": "code",
   "execution_count": null,
   "id": "976d4c1c-efd2-48d6-a97a-aa7dfa481634",
   "metadata": {},
   "outputs": [],
   "source": [
    "!python ../src/LloydMax.py encode -h"
   ]
  },
  {
   "cell_type": "markdown",
   "id": "8e22ff3d-74e1-497a-a667-7438f54b9121",
   "metadata": {},
   "source": [
    "### Encoding"
   ]
  },
  {
   "cell_type": "code",
   "execution_count": null,
   "id": "96abc6ce-903b-4ecc-9461-7d3bcde255e1",
   "metadata": {},
   "outputs": [],
   "source": [
    "!wget http://www.hpca.ual.es/~vruiz/images/Homer.png -O /tmp/Homer.png"
   ]
  },
  {
   "cell_type": "code",
   "execution_count": null,
   "id": "4076bd9c-e78e-4573-94a9-d8189bc79aaa",
   "metadata": {},
   "outputs": [],
   "source": [
    "!python ../src/LloydMax.py encode -i /tmp/Homer.png"
   ]
  },
  {
   "cell_type": "markdown",
   "id": "dfb29b3b-4dda-4452-8fab-cc75f4c58e9d",
   "metadata": {},
   "source": [
    "### Decoding"
   ]
  },
  {
   "cell_type": "code",
   "execution_count": null,
   "id": "a42485ad-beff-4ae7-bbe2-2f70fd4fa758",
   "metadata": {
    "scrolled": true
   },
   "outputs": [],
   "source": [
    "!python ../src/LloydMax.py decode"
   ]
  },
  {
   "cell_type": "code",
   "execution_count": null,
   "id": "c0e94419-2898-437b-92ad-de9846f16710",
   "metadata": {},
   "outputs": [],
   "source": [
    "display(Image(filename=\"/tmp/decoded.png\"))"
   ]
  },
  {
   "cell_type": "markdown",
   "id": "13871359-36b5-4347-93f3-4bcb2df851d1",
   "metadata": {},
   "source": [
    "### Increasing QSS"
   ]
  },
  {
   "cell_type": "code",
   "execution_count": null,
   "id": "697d733c-4882-4d77-9b50-7483efee9727",
   "metadata": {
    "scrolled": true
   },
   "outputs": [],
   "source": [
    "!python ../src/LloydMax.py encode -i /tmp/Homer.png -q 64\n",
    "!python ../src/LloydMax.py decode -q 64\n",
    "display(Image(filename=\"/tmp/decoded.png\"))"
   ]
  },
  {
   "cell_type": "markdown",
   "id": "c2b2d33e-96c1-40e1-b02c-931becd7bf28",
   "metadata": {},
   "source": [
    "### Using PNM"
   ]
  },
  {
   "cell_type": "code",
   "execution_count": null,
   "id": "812bb4c6-ebde-4e54-bf06-c22bc5a4f1b8",
   "metadata": {},
   "outputs": [],
   "source": [
    "!python ../src/LloydMax.py encode -i /tmp/Homer.png -q 64 -e PNM\n",
    "!python ../src/LloydMax.py decode -q 64 -e PNM"
   ]
  },
  {
   "cell_type": "markdown",
   "id": "eeab7c6a-7697-4ddf-a2a2-030a88541d4f",
   "metadata": {},
   "source": [
    "### Using PNG"
   ]
  },
  {
   "cell_type": "code",
   "execution_count": null,
   "id": "689c5f55-ddc5-4a1b-9cf1-03de4ef97966",
   "metadata": {},
   "outputs": [],
   "source": [
    "!python ../src/LloydMax.py encode -i /tmp/Homer.png -q 64 -e PNG\n",
    "!python ../src/LloydMax.py decode -q 64 -e PNG"
   ]
  },
  {
   "cell_type": "markdown",
   "id": "c0b4048c-8699-4147-a699-7d6dfee257d6",
   "metadata": {},
   "source": [
    "### Using Huffman"
   ]
  },
  {
   "cell_type": "code",
   "execution_count": null,
   "id": "341f2fc4-a23a-4601-ae76-b1551b676f20",
   "metadata": {},
   "outputs": [],
   "source": [
    "!python ../src/LloydMax.py encode -i /tmp/Homer.png -q 64 -e Huffman\n",
    "!python ../src/LloydMax.py decode -q 64 -e Huffman"
   ]
  },
  {
   "cell_type": "markdown",
   "id": "c1de44ea-aa78-4c93-9192-8d552bb2a44c",
   "metadata": {},
   "source": [
    "### Using zlib"
   ]
  },
  {
   "cell_type": "code",
   "execution_count": null,
   "id": "e6b3bdc0-d8a6-4c17-ac6f-0e857e48c87b",
   "metadata": {},
   "outputs": [],
   "source": [
    "!python ../src/LloydMax.py encode -i /tmp/Homer.png -q 64 -e z_lib\n",
    "!python ../src/LloydMax.py decode -q 64 -e z_lib"
   ]
  }
 ],
 "metadata": {
  "kernelspec": {
   "display_name": "Python 3 (ipykernel)",
   "language": "python",
   "name": "python3"
  },
  "language_info": {
   "codemirror_mode": {
    "name": "ipython",
    "version": 3
   },
   "file_extension": ".py",
   "mimetype": "text/x-python",
   "name": "python",
   "nbconvert_exporter": "python",
   "pygments_lexer": "ipython3",
   "version": "3.12.2"
  }
 },
 "nbformat": 4,
 "nbformat_minor": 5
}
