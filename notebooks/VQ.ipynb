{
 "cells": [
  {
   "cell_type": "markdown",
   "id": "fd58efe9-d816-4559-bdd1-f76fdcfc100d",
   "metadata": {},
   "source": [
    "## Spatial Vector Quantization"
   ]
  },
  {
   "cell_type": "code",
   "execution_count": null,
   "id": "6a0c815c-386d-4bad-b37d-bb6c58f88fdd",
   "metadata": {},
   "outputs": [],
   "source": [
    "from IPython.display import Image, display"
   ]
  },
  {
   "cell_type": "code",
   "execution_count": null,
   "id": "45580a78-2cae-409c-95ee-753066f5b44d",
   "metadata": {},
   "outputs": [],
   "source": [
    "!pip install -r ../requirements.txt"
   ]
  },
  {
   "cell_type": "markdown",
   "id": "14197b81-b2a9-4e8f-97e1-3ab383a2f644",
   "metadata": {},
   "source": [
    "### Help"
   ]
  },
  {
   "cell_type": "code",
   "execution_count": null,
   "id": "976d4c1c-efd2-48d6-a97a-aa7dfa481634",
   "metadata": {},
   "outputs": [],
   "source": [
    "!python ../src/VQ.py encode -h"
   ]
  },
  {
   "cell_type": "markdown",
   "id": "28277465-f77d-4a3c-9030-9f4199b36fdf",
   "metadata": {},
   "source": [
    "### Encoding\n",
    "In 2D-VQ the size of the image must be divisible by the block size."
   ]
  },
  {
   "cell_type": "code",
   "execution_count": null,
   "id": "ae7acafa-e5a9-4eea-a2a4-1d06afa06ad2",
   "metadata": {},
   "outputs": [],
   "source": [
    "!wget http://www.hpca.ual.es/~vruiz/images/pajarillo_512x512.png -O /tmp/pajarillo.png"
   ]
  },
  {
   "cell_type": "code",
   "execution_count": null,
   "id": "b92eb0a5-e493-4715-8c04-2608ad610d2b",
   "metadata": {},
   "outputs": [],
   "source": [
    "!python ../src/VQ.py encode -i /tmp/pajarillo.png"
   ]
  },
  {
   "cell_type": "markdown",
   "id": "bc8919de-7611-4746-b96a-ba4367eb5dbf",
   "metadata": {},
   "source": [
    "### Decoding"
   ]
  },
  {
   "cell_type": "code",
   "execution_count": null,
   "id": "a42485ad-beff-4ae7-bbe2-2f70fd4fa758",
   "metadata": {},
   "outputs": [],
   "source": [
    "!python ../src/VQ.py decode"
   ]
  },
  {
   "cell_type": "code",
   "execution_count": null,
   "id": "c0e94419-2898-437b-92ad-de9846f16710",
   "metadata": {},
   "outputs": [],
   "source": [
    "display(Image(filename=\"/tmp/pajarillo.png\"))\n",
    "display(Image(filename=\"/tmp/decoded.png\"))"
   ]
  },
  {
   "cell_type": "markdown",
   "id": "2df74814-d9ed-4979-b5a6-743499d15bd8",
   "metadata": {},
   "source": [
    "### Increasing the block size"
   ]
  },
  {
   "cell_type": "code",
   "execution_count": null,
   "id": "7e791e01-451a-4b80-89b1-036aa5acb528",
   "metadata": {},
   "outputs": [],
   "source": [
    "!python ../src/VQ.py encode -i /tmp/pajarillo.png -b 8\n",
    "!python ../src/VQ.py decode -b 8\n",
    "display(Image(filename=\"/tmp/decoded.png\"))"
   ]
  },
  {
   "cell_type": "markdown",
   "id": "fae2c77f-5bc1-4ccb-bc09-44ea2b5dbd47",
   "metadata": {},
   "source": [
    "### Decreasing the number of 2D vectors"
   ]
  },
  {
   "cell_type": "code",
   "execution_count": null,
   "id": "89c39085-e047-4abf-9bf3-ea1eee54f6ad",
   "metadata": {},
   "outputs": [],
   "source": [
    "!python ../src/VQ.py encode -i /tmp/pajarillo.png -n 32\n",
    "!python ../src/VQ.py decode -n 32\n",
    "display(Image(filename=\"/tmp/decoded.png\"))"
   ]
  },
  {
   "cell_type": "markdown",
   "id": "32a0aff4-fa5d-44da-9f63-bbf131f54209",
   "metadata": {},
   "source": [
    "### Using both parameters"
   ]
  },
  {
   "cell_type": "code",
   "execution_count": null,
   "id": "986decad-9f8a-4c69-afce-3f7fae31608a",
   "metadata": {},
   "outputs": [],
   "source": [
    "!python ../src/VQ.py encode -i /tmp/pajarillo.png -n 32 -b 8\n",
    "!python ../src/VQ.py decode -n 32 -b 8\n",
    "display(Image(filename=\"/tmp/decoded.png\"))"
   ]
  },
  {
   "cell_type": "markdown",
   "id": "7dd7827a-90c2-45f4-aa7b-1ef3bf795b9a",
   "metadata": {},
   "source": [
    "### Using Huffman"
   ]
  },
  {
   "cell_type": "code",
   "execution_count": null,
   "id": "ebaf9c85-392e-4af2-8a73-bb14fa0b161f",
   "metadata": {},
   "outputs": [],
   "source": [
    "!python ../src/VQ.py encode -i /tmp/pajarillo.png -n 32 -b 8 -e Huffman\n",
    "!python ../src/VQ.py decode -n 32 -b 8 -e Huffman\n",
    "display(Image(filename=\"/tmp/decoded.png\"))"
   ]
  },
  {
   "cell_type": "markdown",
   "id": "dd3a5b05-1743-4628-ac96-44c71ef4d637",
   "metadata": {},
   "source": [
    "### Using zlib"
   ]
  },
  {
   "cell_type": "code",
   "execution_count": null,
   "id": "3ce43404-2916-49ee-b8a7-3c4a40e207e3",
   "metadata": {},
   "outputs": [],
   "source": [
    "!python ../src/VQ.py encode -i /tmp/pajarillo.png -e z_lib\n",
    "!python ../src/VQ.py decode -e z_lib\n",
    "display(Image(filename=\"/tmp/decoded.png\"))"
   ]
  },
  {
   "cell_type": "markdown",
   "id": "83156f07-0385-4523-83f6-0ef9b8d22216",
   "metadata": {},
   "source": [
    "### Using PNM"
   ]
  },
  {
   "cell_type": "code",
   "execution_count": null,
   "id": "d703a9f5-3c33-4396-b532-fc81e7e6910f",
   "metadata": {},
   "outputs": [],
   "source": [
    "!python ../src/VQ.py encode -i /tmp/pajarillo.png -e PNM\n",
    "!python ../src/VQ.py decode -e PNM\n",
    "display(Image(filename=\"/tmp/decoded.png\"))"
   ]
  }
 ],
 "metadata": {
  "kernelspec": {
   "display_name": "Python 3 (ipykernel)",
   "language": "python",
   "name": "python3"
  },
  "language_info": {
   "codemirror_mode": {
    "name": "ipython",
    "version": 3
   },
   "file_extension": ".py",
   "mimetype": "text/x-python",
   "name": "python",
   "nbconvert_exporter": "python",
   "pygments_lexer": "ipython3",
   "version": "3.12.2"
  }
 },
 "nbformat": 4,
 "nbformat_minor": 5
}
