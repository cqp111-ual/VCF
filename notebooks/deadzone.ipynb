{
 "cells": [
  {
   "cell_type": "markdown",
   "id": "fd58efe9-d816-4559-bdd1-f76fdcfc100d",
   "metadata": {},
   "source": [
    "## Deadzone Quantization"
   ]
  },
  {
   "cell_type": "code",
   "execution_count": null,
   "id": "0ff81bea-cf87-4bf8-85af-ee996e45a8a8",
   "metadata": {},
   "outputs": [],
   "source": [
    "from IPython.display import Image, display"
   ]
  },
  {
   "cell_type": "code",
   "execution_count": null,
   "id": "2cd830c8-ee52-4432-9c00-b91ccec6cccb",
   "metadata": {},
   "outputs": [],
   "source": [
    "!pip install -r ../requirements.txt"
   ]
  },
  {
   "cell_type": "markdown",
   "id": "196f16f3-3831-48d0-9833-dbe9a5bcd361",
   "metadata": {},
   "source": [
    "### Encoding help"
   ]
  },
  {
   "cell_type": "code",
   "execution_count": null,
   "id": "976d4c1c-efd2-48d6-a97a-aa7dfa481634",
   "metadata": {},
   "outputs": [],
   "source": [
    "!python ../src/deadzone.py encode -h"
   ]
  },
  {
   "cell_type": "markdown",
   "id": "e6432255-302d-4d21-861a-d93b40a93e26",
   "metadata": {},
   "source": [
    "### Encoding"
   ]
  },
  {
   "cell_type": "code",
   "execution_count": null,
   "id": "ec6e4287-4a55-41a5-9e6b-80aa4b656bbb",
   "metadata": {},
   "outputs": [],
   "source": [
    "!wget http://www.hpca.ual.es/~vruiz/images/Homer.png -O /tmp/Homer.png"
   ]
  },
  {
   "cell_type": "code",
   "execution_count": null,
   "id": "ee8e6818-eda2-4f3e-a3d2-56c25e4886a1",
   "metadata": {},
   "outputs": [],
   "source": [
    "!python ../src/deadzone.py encode -i /tmp/Homer.png"
   ]
  },
  {
   "cell_type": "markdown",
   "id": "2ce8488a-a8bf-41ed-94f7-ba5c51260f3c",
   "metadata": {},
   "source": [
    "### Decoding"
   ]
  },
  {
   "cell_type": "code",
   "execution_count": null,
   "id": "a42485ad-beff-4ae7-bbe2-2f70fd4fa758",
   "metadata": {},
   "outputs": [],
   "source": [
    "!python ../src/deadzone.py decode"
   ]
  },
  {
   "cell_type": "code",
   "execution_count": null,
   "id": "c0e94419-2898-437b-92ad-de9846f16710",
   "metadata": {},
   "outputs": [],
   "source": [
    "display(Image(filename=\"/tmp/decoded.png\"))"
   ]
  },
  {
   "cell_type": "markdown",
   "id": "62cd3020-b11b-4de8-a46c-d4037fec2976",
   "metadata": {},
   "source": [
    "### Increasing QSS"
   ]
  },
  {
   "cell_type": "code",
   "execution_count": null,
   "id": "8259766b-7a35-4fec-8cb1-237d6d31c187",
   "metadata": {},
   "outputs": [],
   "source": [
    "!python ../src/deadzone.py encode -i /tmp/Homer.png -q 64\n",
    "!python ../src/deadzone.py decode -q 64\n",
    "display(Image(filename=\"/tmp/decoded.png\"))"
   ]
  },
  {
   "cell_type": "markdown",
   "id": "214d9900-5ad0-4a81-9762-d3ee9d426bab",
   "metadata": {},
   "source": [
    "### Using PNM"
   ]
  },
  {
   "cell_type": "code",
   "execution_count": null,
   "id": "ba8d83df-8b5d-4c11-b902-9e1667b70e37",
   "metadata": {},
   "outputs": [],
   "source": [
    "!python ../src/deadzone.py encode -i /tmp/Homer.png -q 64 -e PNM\n",
    "!python ../src/deadzone.py decode -q 64 -e PNM"
   ]
  },
  {
   "cell_type": "markdown",
   "id": "79773c83-d44c-4753-ac23-9c55bdbc73ee",
   "metadata": {},
   "source": [
    "### Using PNG\n",
    "Which is the default entropy encoder."
   ]
  },
  {
   "cell_type": "code",
   "execution_count": null,
   "id": "abb09baf-0a73-4ee0-af96-945264ead2bf",
   "metadata": {},
   "outputs": [],
   "source": [
    "!python ../src/deadzone.py encode -i /tmp/Homer.png -q 64 -e PNG\n",
    "!python ../src/deadzone.py decode -q 64 -e PNG"
   ]
  },
  {
   "cell_type": "markdown",
   "id": "1005bbb5-f95b-4dc9-8272-e873d7f616a2",
   "metadata": {},
   "source": [
    "### Using Huffman"
   ]
  },
  {
   "cell_type": "code",
   "execution_count": null,
   "id": "dfe0fcd7-d5f9-4a5a-8681-2712c1a365ea",
   "metadata": {},
   "outputs": [],
   "source": [
    "!python ../src/deadzone.py encode -i /tmp/Homer.png -q 64 -e Huffman\n",
    "!python ../src/deadzone.py decode -q 64 -e Huffman"
   ]
  },
  {
   "cell_type": "markdown",
   "id": "f5336dd9-0626-4f91-b9c1-e082eb343dbf",
   "metadata": {},
   "source": [
    "### Using zlib"
   ]
  },
  {
   "cell_type": "code",
   "execution_count": null,
   "id": "52028d06-309c-4100-b7cd-262afc858a02",
   "metadata": {},
   "outputs": [],
   "source": [
    "!python ../src/deadzone.py encode -i /tmp/Homer.png -q 64 -e z_lib\n",
    "!python ../src/deadzone.py decode -q 64 -e z_lib"
   ]
  },
  {
   "cell_type": "code",
   "execution_count": null,
   "id": "d24f1bdc-46e3-4b37-86fb-258db70b1bbc",
   "metadata": {},
   "outputs": [],
   "source": []
  }
 ],
 "metadata": {
  "kernelspec": {
   "display_name": "Python 3 (ipykernel)",
   "language": "python",
   "name": "python3"
  },
  "language_info": {
   "codemirror_mode": {
    "name": "ipython",
    "version": 3
   },
   "file_extension": ".py",
   "mimetype": "text/x-python",
   "name": "python",
   "nbconvert_exporter": "python",
   "pygments_lexer": "ipython3",
   "version": "3.12.2"
  }
 },
 "nbformat": 4,
 "nbformat_minor": 5
}
